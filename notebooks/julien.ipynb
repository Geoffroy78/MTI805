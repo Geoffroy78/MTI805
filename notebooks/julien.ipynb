{
 "cells": [
  {
   "cell_type": "markdown",
   "metadata": {},
   "source": [
    "# Depth anything - HuggingFace 🤗"
   ]
  },
  {
   "cell_type": "code",
   "execution_count": 1,
   "metadata": {},
   "outputs": [],
   "source": [
    "from transformers import pipeline\n",
    "import cv2\n",
    "import numpy as np\n",
    "from matplotlib import pyplot as plt\n",
    "from PIL import Image\n",
    "import ipywidgets as widgets\n",
    "from tempfile import NamedTemporaryFile\n",
    "from pathlib import Path\n",
    "# Setup the pipeline\n",
    "pipe = pipeline(task=\"depth-estimation\", model=\"LiheYoung/depth-anything-small-hf\")\n",
    "\n"
   ]
  },
  {
   "cell_type": "markdown",
   "metadata": {},
   "source": [
    "##  Threshold widget example"
   ]
  },
  {
   "cell_type": "code",
   "execution_count": 2,
   "metadata": {},
   "outputs": [
    {
     "data": {
      "application/vnd.jupyter.widget-view+json": {
       "model_id": "4ba7c527801947f9a2771340c2705b70",
       "version_major": 2,
       "version_minor": 0
      },
      "text/plain": [
       "interactive(children=(IntSlider(value=70, continuous_update=False, description='Threshold:', max=255), Output(…"
      ]
     },
     "metadata": {},
     "output_type": "display_data"
    },
    {
     "data": {
      "text/plain": [
       "<function __main__.update_image(threshold)>"
      ]
     },
     "execution_count": 2,
     "metadata": {},
     "output_type": "execute_result"
    }
   ],
   "source": [
    "# Define the threshold slider\n",
    "threshold_slider = widgets.IntSlider(\n",
    "    value=70,\n",
    "    min=0,\n",
    "    max=255,\n",
    "    step=1,\n",
    "    description='Threshold:',\n",
    "    continuous_update=False\n",
    ")\n",
    "\n",
    "image = cv2.cvtColor(cv2.imread(\"../assets/sel&poivre.jpg\"), cv2.COLOR_BGR2RGB)\n",
    "depth = np.array(pipe(Image.fromarray(image))[\"depth\"])\n",
    "\n",
    "# Define the update function\n",
    "def update_image(threshold):\n",
    "    # Apply the threshold to the depth map\n",
    "    depth_mask = cv2.threshold(depth, int(threshold), 255, cv2.THRESH_BINARY)[1]\n",
    "    \n",
    "    masked_image = cv2.bitwise_and(image, image, mask=depth_mask)\n",
    "    \n",
    "    # Display the images\n",
    "    fig, axes = plt.subplots(1, 4, figsize=(16, 4))\n",
    "    axes[0].imshow(image)\n",
    "    axes[0].set_title('Original Image')\n",
    "    axes[1].imshow(depth_mask, cmap='gray')\n",
    "    axes[1].set_title('Depth Map (Thresholded)')\n",
    "    axes[2].imshow(masked_image)\n",
    "    axes[2].set_title('Masked Image')\n",
    "    axes[3].imshow(depth, cmap='inferno')\n",
    "    axes[3].set_title('Original Depth Mask')\n",
    "\n",
    "    plt.tight_layout()\n",
    "    plt.show()\n",
    "\n",
    "widgets.interact(update_image, threshold=threshold_slider)"
   ]
  },
  {
   "cell_type": "markdown",
   "metadata": {},
   "source": [
    "## Exemple 3D"
   ]
  },
  {
   "cell_type": "code",
   "execution_count": 3,
   "metadata": {},
   "outputs": [
    {
     "name": "stdout",
     "output_type": "stream",
     "text": [
      "Jupyter environment detected. Enabling Open3D WebVisualizer.\n",
      "[Open3D INFO] WebRTC GUI backend enabled.\n",
      "[Open3D INFO] WebRTCWindowSystem: HTTP handshake server disabled.\n"
     ]
    }
   ],
   "source": [
    "import open3d as o3d\n",
    "\n",
    "image = cv2.cvtColor(cv2.imread(\"../assets/sel&poivre.jpg\"), cv2.COLOR_BGR2RGB)\n",
    "depth = np.array(pipe(Image.fromarray(image))[\"depth\"])\n",
    "depth = cv2.resize(depth, (image.shape[1], image.shape[0]))\n",
    "\n",
    "image_width = image.shape[1]\n",
    "image_height = image.shape[0]\n",
    "\n",
    "image = o3d.io.read_image(\"../assets/sel&poivre.jpg\")\n",
    "# Windows is not playing well with NamedTemporaryFile, so we need to set the delete=False to prevent a bug\n",
    "with NamedTemporaryFile(delete=False, suffix=\".png\") as file:\n",
    "    cv2.imwrite(file.name, depth)\n",
    "    depth_img = o3d.io.read_image(file.name)\n",
    "    intrinsics = o3d.camera.PinholeCameraIntrinsic(width=image_width, height=image_height, cx=image_width / 2, cy=image_height / 2, fx=image_width / 2, fy=image_height / 2) \n",
    "    pc = o3d.geometry.PointCloud() \n",
    "    rgbd = o3d.geometry.RGBDImage.create_from_color_and_depth(image, depth_img, depth_scale=1, depth_trunc=10000, convert_rgb_to_intensity=False)\n",
    "    pc = pc.create_from_rgbd_image(rgbd, intrinsics) \n",
    "    o3d.visualization.draw_geometries([pc])\n",
    "Path(file.name).unlink()"
   ]
  }
 ],
 "metadata": {
  "kernelspec": {
   "display_name": ".venv",
   "language": "python",
   "name": "python3"
  },
  "language_info": {
   "codemirror_mode": {
    "name": "ipython",
    "version": 3
   },
   "file_extension": ".py",
   "mimetype": "text/x-python",
   "name": "python",
   "nbconvert_exporter": "python",
   "pygments_lexer": "ipython3",
   "version": "3.11.2"
  }
 },
 "nbformat": 4,
 "nbformat_minor": 2
}
